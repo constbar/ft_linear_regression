{
 "cells": [
  {
   "cell_type": "code",
   "execution_count": 1,
   "id": "4e8109be",
   "metadata": {},
   "outputs": [],
   "source": [
    "import pandas as pd\n",
    "import matplotlib.pyplot as plt\n",
    "df = pd.read_csv('data.csv')"
   ]
  },
  {
   "cell_type": "code",
   "execution_count": 15,
   "id": "d6ef05a6",
   "metadata": {},
   "outputs": [],
   "source": [
    "X = df.km.values\n",
    "y = df.price.values"
   ]
  },
  {
   "cell_type": "code",
   "execution_count": 78,
   "id": "585a3b85",
   "metadata": {},
   "outputs": [],
   "source": [
    "slope_norm = 0.0\n",
    "inter = 0.0\n",
    "for i in range(10000):\n",
    "    slope_norm -= 0.01 * sum((est_pr - fact_pr) * mile for (mile, est_pr, fact_pr) in zip(X_norm, inter+slope_norm * X_norm, y)) / len(X_norm) \n",
    "    inter -= 0.01 * sum((est_pr - fact_pr) for (mile, est_pr, fact_pr) in zip(X_norm, inter+slope_norm * X_norm, y)) / len(X_norm) "
   ]
  },
  {
   "cell_type": "code",
   "execution_count": 82,
   "id": "88c0c562",
   "metadata": {},
   "outputs": [
    {
     "name": "stdout",
     "output_type": "stream",
     "text": [
      "-4609.942890360617\n",
      "\n",
      "7990.774351393313\n",
      "-0.01920809537650257\n"
     ]
    }
   ],
   "source": [
    "print(slope_norm)\n",
    "print()\n",
    "print(inter)\n",
    "print(slope_norm / df.km.max())"
   ]
  },
  {
   "cell_type": "code",
   "execution_count": 55,
   "id": "5d5a828f",
   "metadata": {},
   "outputs": [
    {
     "data": {
      "text/plain": [
       "[(1.0, 0.0, 3650),\n",
       " (0.5384636643774096, 0.0, 3800),\n",
       " (0.5877494806564687, 0.0, 4400),\n",
       " (0.7491029520822106, 0.0, 4450),\n",
       " (0.7052063325364692, 0.0, 5250),\n",
       " (0.4233098880244679, 0.0, 5350),\n",
       " (0.6628297428385866, 0.0, 5800),\n",
       " (0.30447119082823204, 0.0, 5990),\n",
       " (0.5601125743317626, 0.0, 5999),\n",
       " (0.2814404355576437, 0.0, 6200),\n",
       " (0.27236171182997776, 0.0, 6390),\n",
       " (0.18498763248441968, 0.0, 6390),\n",
       " (0.23537892501646698, 0.0, 6600),\n",
       " (0.3436234747882322, 0.0, 6800),\n",
       " (0.2031358676376433, 0.0, 6800),\n",
       " (0.24470638090105526, 0.0, 6900),\n",
       " (0.11670144310712526, 0.0, 6900),\n",
       " (0.32289579504470267, 0.0, 6990),\n",
       " (0.1752640476091773, 0.0, 7490),\n",
       " (0.1970281113398833, 0.0, 7555),\n",
       " (0.1432559039341136, 0.0, 7990),\n",
       " (0.2100450942188198, 0.0, 7990),\n",
       " (0.0, 0.0, 7990),\n",
       " (0.17913321449463615, 0.0, 8290)]"
      ]
     },
     "execution_count": 55,
     "metadata": {},
     "output_type": "execute_result"
    }
   ],
   "source": [
    "list(zip(X_norm, inter+slope_norm * X_norm, y))"
   ]
  },
  {
   "cell_type": "code",
   "execution_count": null,
   "id": "2b5d1848",
   "metadata": {},
   "outputs": [],
   "source": []
  }
 ],
 "metadata": {
  "kernelspec": {
   "display_name": "Python 3 (ipykernel)",
   "language": "python",
   "name": "python3"
  },
  "language_info": {
   "codemirror_mode": {
    "name": "ipython",
    "version": 3
   },
   "file_extension": ".py",
   "mimetype": "text/x-python",
   "name": "python",
   "nbconvert_exporter": "python",
   "pygments_lexer": "ipython3",
   "version": "3.10.4"
  }
 },
 "nbformat": 4,
 "nbformat_minor": 5
}
